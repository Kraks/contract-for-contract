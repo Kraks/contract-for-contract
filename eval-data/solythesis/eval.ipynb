{
 "cells": [
  {
   "cell_type": "code",
   "execution_count": 3,
   "metadata": {},
   "outputs": [],
   "source": [
    "import json \n",
    "from typing import Tuple\n",
    "\n",
    "def avg_function_gas_usage(contract: str) -> Tuple[float, float]:\n",
    "    with open(f\"results/{contract}_results.json\", \"r\") as f:\n",
    "        lines = f.readlines()\n",
    "        txs = map(lambda l: json.loads(l), lines)\n",
    "        gas_usage = list(map(lambda x: x['gas'], txs))\n",
    "        baseline = sum(gas_usage) / len(gas_usage)\n",
    "\n",
    "    with open(f\"results/{contract}_transpiled_results.json\", \"r\") as f:\n",
    "        lines = f.readlines()\n",
    "        txs = map(lambda l: json.loads(l), lines)\n",
    "        gas_usage = list(map(lambda x: x['gas'], txs))\n",
    "        consol = sum(gas_usage) / len(gas_usage)\n",
    "\n",
    "    return (baseline, consol)\n"
   ]
  },
  {
   "cell_type": "code",
   "execution_count": 4,
   "metadata": {},
   "outputs": [],
   "source": [
    "def wrapped_erc20_avg(contract: str) -> Tuple[float, float]:\n",
    "    return avg_function_gas_usage(f\"ERC20_{contract}\")\n",
    "\n",
    "def wrapped_erc721_avg(contract: str) -> Tuple[float, float]:\n",
    "    return avg_function_gas_usage(f\"ERC721_{contract}\")"
   ]
  },
  {
   "cell_type": "code",
   "execution_count": 15,
   "metadata": {},
   "outputs": [
    {
     "name": "stdout",
     "output_type": "stream",
     "text": [
      "62426.0 & 51468.0 & 51540.0 & 53738.0 & 53941.0 & 53696.0 & 51911.0 & 51375.0 & 51525.0 & 55728.0\n",
      "63430.0 & 51468.0 & 51895.0 & 53735.0 & 54160.0 & 53960.0 & 52425.0 & 51802.0 & 51566.0 & 55952.0\n",
      "1.61\\% & 0.00\\% & 0.69\\% & -0.01\\% & 0.41\\% & 0.49\\% & 0.99\\% & 0.83\\% & 0.08\\% & 0.40\\%\n"
     ]
    }
   ],
   "source": [
    "cs = [\n",
    "    \"TETHER\",\n",
    "    \"ZRX\",\n",
    "    \"THETA\",\n",
    "    \"INB\",\n",
    "    \"HEDG\",\n",
    "    \"DAI\",\n",
    "    \"EKT\",\n",
    "    \"XIN\",\n",
    "    \"HOT\",\n",
    "    \"SWIPE\",\n",
    "]\n",
    "avg_gas = [wrapped_erc20_avg(c) for c in cs]\n",
    "print(' & '.join([f'{b:.1f}' for b, _ in avg_gas]))\n",
    "print(' & '.join([f'{c:.1f}' for _, c in avg_gas]))\n",
    "print(' & '.join([f'{(c-b)/b*100:.2f}\\%' for b, c in avg_gas]))"
   ]
  },
  {
   "cell_type": "code",
   "execution_count": 16,
   "metadata": {},
   "outputs": [
    {
     "name": "stdout",
     "output_type": "stream",
     "text": [
      "138033.5 & 133651.0 & 150692.0 & 134749.5 & 133786.5 & 133764.5 & 133497.0 & 156070.5 & 143674.0 & 134251.5\n",
      "138576.0 & 134188.0 & 151439.5 & 135281.0 & 134174.5 & 134155.5 & 134017.0 & 156458.5 & 144013.0 & 134460.0\n",
      "0.39\\% & 0.40\\% & 0.50\\% & 0.39\\% & 0.29\\% & 0.29\\% & 0.39\\% & 0.25\\% & 0.24\\% & 0.16\\%\n"
     ]
    }
   ],
   "source": [
    "cs = [\n",
    "    \"MCHH\",\n",
    "    \"CC\",\n",
    "    \"CLV\",\n",
    "    \"LAND\",\n",
    "    \"CARDS\",\n",
    "    \"KB\",\n",
    "    \"TRINKET\",\n",
    "    \"PACKS\",\n",
    "    \"BKC\",\n",
    "    \"EGG\",\n",
    "]\n",
    "avg_gas = [wrapped_erc721_avg(c) for c in cs]\n",
    "print(' & '.join([f'{b:.1f}' for b, _ in avg_gas]))\n",
    "print(' & '.join([f'{c:.1f}' for _, c in avg_gas]))\n",
    "print(' & '.join([f'{(c-b)/b*100:.2f}\\%' for b, c in avg_gas]))"
   ]
  },
  {
   "cell_type": "code",
   "execution_count": 18,
   "metadata": {},
   "outputs": [
    {
     "name": "stdout",
     "output_type": "stream",
     "text": [
      "(118292.5, 118410.5)\n",
      "0.10\\%\n"
     ]
    }
   ],
   "source": [
    "gas = avg_function_gas_usage(\"ERC1202_VOTE\")\n",
    "print(gas)\n",
    "print(f\"{(gas[1] - gas[0])/gas[0]*100:.2f}\\%\")"
   ]
  },
  {
   "cell_type": "code",
   "execution_count": 19,
   "metadata": {},
   "outputs": [
    {
     "name": "stdout",
     "output_type": "stream",
     "text": [
      "114726.68950034125 114882.46513883401\n",
      "0.14\\%\n"
     ]
    }
   ],
   "source": [
    "# BEC\n",
    "with open(\"results/ERC20_BEC.sol_gas.json\", \"r\") as f:\n",
    "    content = json.load(f)\n",
    "    gas_usage = list(filter(lambda x: x is not None, content))\n",
    "    baseline = (sum(gas_usage) / len(gas_usage))\n",
    "\n",
    "with open(\"results/ERC20_BEC_transpiled.sol_gas.json\", \"r\") as f:\n",
    "    content = json.load(f)\n",
    "    gas_usage = list(filter(lambda x: x is not None, content))\n",
    "    consol = (sum(gas_usage) / len(gas_usage))\n",
    "print(baseline, consol)\n",
    "print(f\"{(consol-baseline)/baseline*100:.2f}\\%\")"
   ]
  },
  {
   "cell_type": "code",
   "execution_count": 20,
   "metadata": {},
   "outputs": [
    {
     "name": "stdout",
     "output_type": "stream",
     "text": [
      "255037.81187963716 255557.57195141056\n",
      "0.20\\%\n"
     ]
    }
   ],
   "source": [
    "# DOZ\n",
    "with open(\"results/ERC721_DOZ.sol_gas.json\", \"r\") as f:\n",
    "    content = json.load(f)\n",
    "    gas_usage = list(filter(lambda x: x is not None, content))\n",
    "    baseline = (sum(gas_usage) / len(gas_usage))\n",
    "\n",
    "with open(\"results/ERC721_DOZ_transpiled.sol_gas.json\", \"r\") as f:\n",
    "    content = json.load(f)\n",
    "    gas_usage = list(filter(lambda x: x is not None, content))\n",
    "    consol = (sum(gas_usage) / len(gas_usage))\n",
    "print(baseline, consol)\n",
    "print(f\"{(consol-baseline)/baseline*100:.2f}\\%\")"
   ]
  }
 ],
 "metadata": {
  "kernelspec": {
   "display_name": "Python 3",
   "language": "python",
   "name": "python3"
  },
  "language_info": {
   "codemirror_mode": {
    "name": "ipython",
    "version": 3
   },
   "file_extension": ".py",
   "mimetype": "text/x-python",
   "name": "python",
   "nbconvert_exporter": "python",
   "pygments_lexer": "ipython3",
   "version": "3.6.9"
  },
  "orig_nbformat": 4
 },
 "nbformat": 4,
 "nbformat_minor": 2
}
