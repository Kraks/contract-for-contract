{
 "cells": [
  {
   "cell_type": "code",
   "execution_count": 49,
   "metadata": {},
   "outputs": [],
   "source": [
    "import json \n",
    "from typing import Tuple\n",
    "\n",
    "def avg_function_gas_usage(contract: str) -> Tuple[float, float]:\n",
    "    with open(f\"results/{contract}_results.json\", \"r\") as f:\n",
    "        lines = f.readlines()\n",
    "        txs = map(lambda l: json.loads(l), lines)\n",
    "        gas_usage = list(map(lambda x: x['gas'], txs))\n",
    "        baseline = sum(gas_usage) / len(gas_usage)\n",
    "\n",
    "    with open(f\"results/{contract}_transpiled_results.json\", \"r\") as f:\n",
    "        lines = f.readlines()\n",
    "        txs = map(lambda l: json.loads(l), lines)\n",
    "        gas_usage = list(map(lambda x: x['gas'], txs))\n",
    "        consol = sum(gas_usage) / len(gas_usage)\n",
    "\n",
    "    return (baseline, consol)\n"
   ]
  },
  {
   "cell_type": "code",
   "execution_count": 50,
   "metadata": {},
   "outputs": [],
   "source": [
    "def wrapped_erc20_avg(contract: str) -> Tuple[float, float]:\n",
    "    return avg_function_gas_usage(f\"ERC20_{contract}\")\n",
    "\n",
    "def wrapped_erc721_avg(contract: str) -> Tuple[float, float]:\n",
    "    return avg_function_gas_usage(f\"ERC721_{contract}\")"
   ]
  },
  {
   "cell_type": "code",
   "execution_count": 53,
   "metadata": {},
   "outputs": [
    {
     "name": "stdout",
     "output_type": "stream",
     "text": [
      "62426.0 & 51468.0 & 51540.0 & 53738.0 & 53941.0 & 53696.0 & 51911.0 & 51375.0 & 51525.0 & 55728.0\n",
      "63382.0 & 51468.0 & 51895.0 & 53735.0 & 54160.0 & 53960.0 & 52258.0 & 51727.0 & 51566.0 & 55952.0\n",
      "1.53\\% & 0.00\\% & 0.69\\% & -0.01\\% & 0.41\\% & 0.49\\% & 0.67\\% & 0.69\\% & 0.08\\% & 0.40\\%\n"
     ]
    }
   ],
   "source": [
    "cs = [\n",
    "    \"TETHER\",\n",
    "    \"ZRX\",\n",
    "    \"THETA\",\n",
    "    \"INB\",\n",
    "    \"HEDG\",\n",
    "    \"DAI\",\n",
    "    \"EKT\",\n",
    "    \"XIN\",\n",
    "    \"HOT\",\n",
    "    \"SWIPE\",\n",
    "]\n",
    "avg_gas = [wrapped_erc20_avg(c) for c in cs]\n",
    "print(' & '.join([f'{b:.1f}' for b, _ in avg_gas]))\n",
    "print(' & '.join([f'{c:.1f}' for _, c in avg_gas]))\n",
    "print(' & '.join([f'{(c-b)/b*100:.2f}\\%' for b, c in avg_gas]))"
   ]
  },
  {
   "cell_type": "code",
   "execution_count": 16,
   "metadata": {},
   "outputs": [
    {
     "name": "stdout",
     "output_type": "stream",
     "text": [
      "138033.5 & 133651.0 & 150692.0 & 134749.5 & 133786.5 & 133764.5 & 133497.0 & 156070.5 & 143674.0 & 134251.5\n",
      "138576.0 & 134188.0 & 151439.5 & 135281.0 & 134174.5 & 134155.5 & 134017.0 & 156458.5 & 144013.0 & 134460.0\n",
      "0.39\\% & 0.40\\% & 0.50\\% & 0.39\\% & 0.29\\% & 0.29\\% & 0.39\\% & 0.25\\% & 0.24\\% & 0.16\\%\n"
     ]
    }
   ],
   "source": [
    "cs = [\n",
    "    \"MCHH\",\n",
    "    \"CC\",\n",
    "    \"CLV\",\n",
    "    \"LAND\",\n",
    "    \"CARDS\",\n",
    "    \"KB\",\n",
    "    \"TRINKET\",\n",
    "    \"PACKS\",\n",
    "    \"BKC\",\n",
    "    \"EGG\",\n",
    "]\n",
    "avg_gas = [wrapped_erc721_avg(c) for c in cs]\n",
    "print(' & '.join([f'{b:.1f}' for b, _ in avg_gas]))\n",
    "print(' & '.join([f'{c:.1f}' for _, c in avg_gas]))\n",
    "print(' & '.join([f'{(c-b)/b*100:.2f}\\%' for b, c in avg_gas]))"
   ]
  },
  {
   "cell_type": "code",
   "execution_count": 18,
   "metadata": {},
   "outputs": [
    {
     "name": "stdout",
     "output_type": "stream",
     "text": [
      "(118292.5, 118410.5)\n",
      "0.10\\%\n"
     ]
    }
   ],
   "source": [
    "gas = avg_function_gas_usage(\"ERC1202_VOTE\")\n",
    "print(gas)\n",
    "print(f\"{(gas[1] - gas[0])/gas[0]*100:.2f}\\%\")"
   ]
  },
  {
   "cell_type": "code",
   "execution_count": 52,
   "metadata": {},
   "outputs": [
    {
     "name": "stdout",
     "output_type": "stream",
     "text": [
      "114725.76963971407 115554.46624040614\n",
      "0.72\\%\n"
     ]
    }
   ],
   "source": [
    "# BEC\n",
    "with open(\"results/ERC20_BEC.sol_gas.json\", \"r\") as f:\n",
    "    content = json.load(f)\n",
    "    gas_usage = list(filter(lambda x: x is not None, content))\n",
    "    baseline = (sum(gas_usage) / len(gas_usage))\n",
    "\n",
    "with open(\"results/ERC20_BEC_transpiled.sol_gas.json\", \"r\") as f:\n",
    "    content = json.load(f)\n",
    "    gas_usage = list(filter(lambda x: x is not None, content))\n",
    "    consol = (sum(gas_usage) / len(gas_usage))\n",
    "print(baseline, consol)\n",
    "print(f\"{(consol-baseline)/baseline*100:.2f}\\%\")"
   ]
  },
  {
   "cell_type": "code",
   "execution_count": 20,
   "metadata": {},
   "outputs": [
    {
     "name": "stdout",
     "output_type": "stream",
     "text": [
      "255037.81187963716 255557.57195141056\n",
      "0.20\\%\n"
     ]
    }
   ],
   "source": [
    "# DOZ\n",
    "with open(\"results/ERC721_DOZ.sol_gas.json\", \"r\") as f:\n",
    "    content = json.load(f)\n",
    "    gas_usage = list(filter(lambda x: x is not None, content))\n",
    "    baseline = (sum(gas_usage) / len(gas_usage))\n",
    "\n",
    "with open(\"results/ERC721_DOZ_transpiled.sol_gas.json\", \"r\") as f:\n",
    "    content = json.load(f)\n",
    "    gas_usage = list(filter(lambda x: x is not None, content))\n",
    "    consol = (sum(gas_usage) / len(gas_usage))\n",
    "print(baseline, consol)\n",
    "print(f\"{(consol-baseline)/baseline*100:.2f}\\%\")"
   ]
  },
  {
   "cell_type": "markdown",
   "metadata": {},
   "source": [
    "# Decoupling Measurement    "
   ]
  },
  {
   "cell_type": "code",
   "execution_count": 30,
   "metadata": {},
   "outputs": [],
   "source": [
    "import subprocess\n",
    "from typing import Tuple\n",
    "\n",
    "def calculate_diff(contract: str) -> Tuple[int, int]:\n",
    "    folder = \"results\"\n",
    "    try:\n",
    "        subprocess.check_output(['diff', f'{folder}/{contract}.sol', f'{folder}/{contract}_spec.sol'])\n",
    "        return 0, 0\n",
    "    except subprocess.CalledProcessError as e:\n",
    "        output = e.output\n",
    "\n",
    "        add = 0\n",
    "        delete = 0\n",
    "        for line in output.splitlines():\n",
    "            if line.startswith(b'<'):\n",
    "                line = line[1:].strip()\n",
    "                if len(line) > 0:\n",
    "                    delete += 1\n",
    "            elif line.startswith(b'>') and \"consol\" in str(line):\n",
    "                line = line[1:].strip()\n",
    "                if len(line) > 0:\n",
    "                    add += 1\n",
    "        return add, delete"
   ]
  },
  {
   "cell_type": "code",
   "execution_count": 39,
   "metadata": {},
   "outputs": [
    {
     "name": "stdout",
     "output_type": "stream",
     "text": [
      "{'ERC20_BEC': (7, 11), 'ERC20_TETHER': (4, 4), 'ERC20_ZRX': (0, 0), 'ERC20_THETA': (3, 3), 'ERC20_INB': (3, 5), 'ERC20_HEDG': (2, 3), 'ERC20_DAI': (2, 2), 'ERC20_EKT': (0, 2), 'ERC20_XIN': (3, 3), 'ERC20_HOT': (3, 5), 'ERC20_SWIPE': (2, 2), 'ERC1202_VOTE': (2, 3), 'ERC721_DOZ': (24, 29), 'ERC721_MCHH': (7, 9), 'ERC721_CC': (7, 8), 'ERC721_CLV': (7, 8), 'ERC721_LAND': (7, 9), 'ERC721_CARDS': (5, 8), 'ERC721_KB': (5, 7), 'ERC721_TRINKET': (7, 8), 'ERC721_PACKS': (5, 7), 'ERC721_BKC': (5, 8), 'ERC721_EGG': (7, 11)}\n",
      "ERC20_BEC & ERC20_TETHER & ERC20_ZRX & ERC20_THETA & ERC20_INB & ERC20_HEDG & ERC20_DAI & ERC20_EKT & ERC20_XIN & ERC20_HOT & ERC20_SWIPE & ERC1202_VOTE & ERC721_DOZ & ERC721_MCHH & ERC721_CC & ERC721_CLV & ERC721_LAND & ERC721_CARDS & ERC721_KB & ERC721_TRINKET & ERC721_PACKS & ERC721_BKC & ERC721_EGG\n",
      "        7 &            4 &         0 &           3 &         3 &          2 &         2 &         0 &         3 &         3 &           2 &            2 &         24 &           7 &         7 &          7 &           7 &            5 &         5 &              7 &            5 &          5 &          7\n",
      "       11 &            4 &         0 &           3 &         5 &          3 &         2 &         2 &         3 &         5 &           2 &            3 &         29 &           9 &         8 &          8 &           9 &            8 &         7 &              8 &            7 &          8 &         11\n",
      "     1.57 &         1.00 &         - &        1.00 &      1.67 &       1.50 &      1.00 &         - &      1.00 &      1.67 &        1.00 &         1.50 &       1.21 &        1.29 &      1.14 &       1.14 &        1.29 &         1.60 &      1.40 &           1.14 &         1.40 &       1.60 &       1.57\n"
     ]
    }
   ],
   "source": [
    "cs = [\n",
    "    \"ERC20_BEC\",\n",
    "    \"ERC20_TETHER\",\n",
    "    \"ERC20_ZRX\",\n",
    "    \"ERC20_THETA\",\n",
    "    \"ERC20_INB\",\n",
    "    \"ERC20_HEDG\",\n",
    "    \"ERC20_DAI\",\n",
    "    \"ERC20_EKT\",\n",
    "    \"ERC20_XIN\",\n",
    "    \"ERC20_HOT\",\n",
    "    \"ERC20_SWIPE\",\n",
    "    \"ERC1202_VOTE\",\n",
    "    \"ERC721_DOZ\",\n",
    "    \"ERC721_MCHH\",\n",
    "    \"ERC721_CC\",\n",
    "    \"ERC721_CLV\",\n",
    "    \"ERC721_LAND\",\n",
    "    \"ERC721_CARDS\",\n",
    "    \"ERC721_KB\",\n",
    "    \"ERC721_TRINKET\",\n",
    "    \"ERC721_PACKS\",\n",
    "    \"ERC721_BKC\",\n",
    "    \"ERC721_EGG\",\n",
    "]\n",
    "result = {}\n",
    "for c in cs:\n",
    "    result[c] = calculate_diff(c)\n",
    "\n",
    "line1 = []\n",
    "line2 = []\n",
    "line3 = []\n",
    "line4 = []\n",
    "for c, (add, delete) in result.items():\n",
    "    line1.append(c)\n",
    "    line2.append(str(add).rjust(len(c), ' '))\n",
    "    line3.append(str(delete).rjust(len(c), ' '))\n",
    "    if add == 0:\n",
    "        line4.append(f\"-\".rjust(len(c), ' '))\n",
    "    else:\n",
    "        line4.append(f\"{delete/add:.2f}\".rjust(len(c), ' '))\n",
    "print(result)\n",
    "print(\" & \".join(line1))\n",
    "print(\" & \".join(line2))\n",
    "print(\" & \".join(line3))\n",
    "print(\" & \".join(line4))\n"
   ]
  },
  {
   "cell_type": "code",
   "execution_count": 48,
   "metadata": {},
   "outputs": [
    {
     "name": "stdout",
     "output_type": "stream",
     "text": [
      "{'ERC20_BEC': [(1, 3), (1, 2), (1, 3), (3, 7), (4, 9), (1, 3), (4, 11)], 'ERC20_TETHER': [(1, 5), (1, 2), (1, 3), (1, 5)], 'ERC20_ZRX': [], 'ERC20_THETA': [(1, 2), (1, 3), (2, 6)], 'ERC20_INB': [(1, 2), (1, 3), (2, 6)], 'ERC20_HEDG': [(1, 2), (1, 2)], 'ERC20_DAI': [(1, 2), (1, 2)], 'ERC20_EKT': [(1, 2), (1, 2), (3, 10), (2, 6)], 'ERC20_XIN': [(1, 2), (1, 3), (1, 5)], 'ERC20_HOT': [(1, 2), (1, 2), (2, 6)], 'ERC20_SWIPE': [(1, 2), (1, 2)], 'ERC1202_VOTE': [(2, 8), (1, 6)], 'ERC721_DOZ': [(1, 5), (1, 3), (1, 3), (1, 3), (1, 2), (1, 2), (1, 2), (1, 3), (2, 5), (1, 2), (1, 3), (1, 2), (2, 5), (1, 5), (2, 6), (1, 2), (1, 2), (1, 2), (1, 2), (2, 3), (2, 3), (1, 2), (1, 2), (1, 3)], 'ERC721_MCHH': [(1, 3), (1, 3)], 'ERC721_CC': [(1, 2), (1, 3), (2, 6), (1, 3), (1, 3), (1, 3), (1, 3)], 'ERC721_CLV': [(1, 2), (1, 3)], 'ERC721_LAND': [(1, 3), (1, 3), (2, 6), (1, 3), (1, 3), (1, 3), (1, 3)], 'ERC721_CARDS': [(1, 3), (1, 3), (2, 5), (2, 7)], 'ERC721_KB': [(1, 3), (1, 3), (1, 2), (2, 5), (2, 7)], 'ERC721_TRINKET': [(1, 2), (1, 3), (2, 6), (1, 3), (1, 3), (1, 3), (1, 3)], 'ERC721_PACKS': [(1, 3), (1, 3)], 'ERC721_BKC': [(1, 3), (1, 3), (1, 2), (2, 5), (2, 7)], 'ERC721_EGG': [(1, 2), (1, 3), (1, 3), (1, 4), (1, 3), (2, 4)]}\n",
      "ERC20_BEC & ERC20_TETHER & ERC20_ZRX & ERC20_THETA & ERC20_INB & ERC20_HEDG & ERC20_DAI & ERC20_EKT & ERC20_XIN & ERC20_HOT & ERC20_SWIPE & ERC1202_VOTE & ERC721_DOZ & ERC721_MCHH & ERC721_CC & ERC721_CLV & ERC721_LAND & ERC721_CARDS & ERC721_KB & ERC721_TRINKET & ERC721_PACKS & ERC721_BKC & ERC721_EGG\n",
      "  39.10\\% &      30.83\\% &         - &     38.89\\% &   38.89\\% &    50.00\\% &   50.00\\% &   40.83\\% &   34.44\\% &   44.44\\% &     50.00\\% &      20.83\\% &    43.19\\% &     33.33\\% &   35.71\\% &    41.67\\% &     33.33\\% &      33.81\\% &   37.05\\% &        35.71\\% &      33.33\\% &    37.05\\% &    37.50\\%\n"
     ]
    }
   ],
   "source": [
    "cs = [\n",
    "    \"ERC20_BEC\",\n",
    "    \"ERC20_TETHER\",\n",
    "    \"ERC20_ZRX\",\n",
    "    \"ERC20_THETA\",\n",
    "    \"ERC20_INB\",\n",
    "    \"ERC20_HEDG\",\n",
    "    \"ERC20_DAI\",\n",
    "    \"ERC20_EKT\",\n",
    "    \"ERC20_XIN\",\n",
    "    \"ERC20_HOT\",\n",
    "    \"ERC20_SWIPE\",\n",
    "    \"ERC1202_VOTE\",\n",
    "    \"ERC721_DOZ\",\n",
    "    \"ERC721_MCHH\",\n",
    "    \"ERC721_CC\",\n",
    "    \"ERC721_CLV\",\n",
    "    \"ERC721_LAND\",\n",
    "    \"ERC721_CARDS\",\n",
    "    \"ERC721_KB\",\n",
    "    \"ERC721_TRINKET\",\n",
    "    \"ERC721_PACKS\",\n",
    "    \"ERC721_BKC\",\n",
    "    \"ERC721_EGG\",\n",
    "]\n",
    "\n",
    "from typing import Tuple, List\n",
    "import re\n",
    "\n",
    "def calculate_function_logic_extraction_ratio(contract: str) -> List[Tuple[int, int]]:\n",
    "    file = f\"results/{contract}_spec.sol\"\n",
    "    with open(file, \"r\") as f:\n",
    "        lines = f.readlines()\n",
    "    fns = []\n",
    "    for line in lines:\n",
    "        match = re.search(\"@custom:consol-diff\\s+(\\d+)/(\\d+)\", line)    \n",
    "        if match is None:\n",
    "            continue\n",
    "        fns.append((int(match.group(1)), int(match.group(2))))\n",
    "    return fns\n",
    "\n",
    "result = {}\n",
    "for c in cs:\n",
    "    result[c] = calculate_function_logic_extraction_ratio(c)\n",
    "    \n",
    "line1 = []\n",
    "line2 = []\n",
    "for c in result.keys():\n",
    "    line1.append(c)\n",
    "    if len(result[c]) == 0:\n",
    "        line2.append(\"-\".rjust(len(c), ' '))\n",
    "        continue\n",
    "    avg = sum([a/b for a, b in result[c]]) / len(result[c])\n",
    "    line2.append(f\"{avg*100:.2f}\\%\".rjust(len(c), ' '))\n",
    "print(result)\n",
    "print(\" & \".join(line1))\n",
    "print(\" & \".join(line2))\n"
   ]
  }
 ],
 "metadata": {
  "kernelspec": {
   "display_name": "Python 3",
   "language": "python",
   "name": "python3"
  },
  "language_info": {
   "codemirror_mode": {
    "name": "ipython",
    "version": 3
   },
   "file_extension": ".py",
   "mimetype": "text/x-python",
   "name": "python",
   "nbconvert_exporter": "python",
   "pygments_lexer": "ipython3",
   "version": "3.6.9"
  },
  "orig_nbformat": 4
 },
 "nbformat": 4,
 "nbformat_minor": 2
}
